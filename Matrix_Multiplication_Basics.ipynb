{
  "nbformat": 4,
  "nbformat_minor": 0,
  "metadata": {
    "colab": {
      "name": "Matrix_Multiplication_Basics.ipynb",
      "provenance": [],
      "authorship_tag": "ABX9TyPPOvJ+CRlXOa3RTi68DRC+",
      "include_colab_link": true
    },
    "kernelspec": {
      "name": "python3",
      "display_name": "Python 3"
    },
    "language_info": {
      "name": "python"
    }
  },
  "cells": [
    {
      "cell_type": "markdown",
      "metadata": {
        "id": "view-in-github",
        "colab_type": "text"
      },
      "source": [
        "<a href=\"https://colab.research.google.com/github/shajohn4/Portfolio/blob/main/Matrix_Multiplication_Basics.ipynb\" target=\"_parent\"><img src=\"https://colab.research.google.com/assets/colab-badge.svg\" alt=\"Open In Colab\"/></a>"
      ]
    },
    {
      "cell_type": "code",
      "source": [
        "import numpy as np"
      ],
      "metadata": {
        "id": "AvOLNo3n9Ynd"
      },
      "execution_count": 2,
      "outputs": []
    },
    {
      "cell_type": "code",
      "source": [
        "revenue  = np.array([[180,200,220],[24,36,40],[12,18,20]])\n",
        "expenses = np.array([[80,90,100],[10,16,20],[8,10,10]])"
      ],
      "metadata": {
        "id": "ck9R4NJu9a1C"
      },
      "execution_count": 4,
      "outputs": []
    },
    {
      "cell_type": "markdown",
      "source": [
        "Matrix Subtraction"
      ],
      "metadata": {
        "id": "XRMl-NM0-JTx"
      }
    },
    {
      "cell_type": "code",
      "source": [
        "profit = revenue-expenses\n",
        "print(profit)"
      ],
      "metadata": {
        "colab": {
          "base_uri": "https://localhost:8080/"
        },
        "id": "FXKIC6q096Rf",
        "outputId": "dabb0c7b-da82-4e7c-b10a-278764a340db"
      },
      "execution_count": 5,
      "outputs": [
        {
          "output_type": "stream",
          "name": "stdout",
          "text": [
            "[[100 110 120]\n",
            " [ 14  20  20]\n",
            " [  4   8  10]]\n"
          ]
        }
      ]
    },
    {
      "cell_type": "code",
      "source": [
        "price_per_unit = np.array([1000,400,1200])\n",
        "units = np.array([[30,40,50],[5,10,15],[2,5,7]])\n",
        "\n",
        "print(price_per_unit)\n",
        "print(units)"
      ],
      "metadata": {
        "colab": {
          "base_uri": "https://localhost:8080/"
        },
        "id": "1Etb20sN-M6n",
        "outputId": "d72ff05d-9cbe-493f-9161-4f5822b106c2"
      },
      "execution_count": 6,
      "outputs": [
        {
          "output_type": "stream",
          "name": "stdout",
          "text": [
            "[1000  400 1200]\n",
            "[[30 40 50]\n",
            " [ 5 10 15]\n",
            " [ 2  5  7]]\n"
          ]
        }
      ]
    },
    {
      "cell_type": "markdown",
      "source": [
        "Below is not Matrix Multiplication. It is a concept of Broadcasting which happens when two matrix of different shapes are multiplied, it multiplies each element of first array with each element of another array"
      ],
      "metadata": {
        "id": "logONWFk-mn2"
      }
    },
    {
      "cell_type": "code",
      "source": [
        "results = price_per_unit*units\n",
        "print(results)"
      ],
      "metadata": {
        "colab": {
          "base_uri": "https://localhost:8080/"
        },
        "id": "DmAhTFo1-mIL",
        "outputId": "70904ede-28b6-44c2-9f03-6a115889676b"
      },
      "execution_count": 8,
      "outputs": [
        {
          "output_type": "stream",
          "name": "stdout",
          "text": [
            "[[30000 16000 60000]\n",
            " [ 5000  4000 18000]\n",
            " [ 2000  2000  8400]]\n"
          ]
        }
      ]
    },
    {
      "cell_type": "code",
      "source": [
        "new_results = np.dot(price_per_unit,units)\n",
        "print(new_results)"
      ],
      "metadata": {
        "colab": {
          "base_uri": "https://localhost:8080/"
        },
        "id": "oW6xuH5U_G51",
        "outputId": "067f0132-b7f3-4a05-ca40-b72ed4acc8d6"
      },
      "execution_count": 9,
      "outputs": [
        {
          "output_type": "stream",
          "name": "stdout",
          "text": [
            "[34400 50000 64400]\n"
          ]
        }
      ]
    },
    {
      "cell_type": "code",
      "source": [
        "revenues = np.array([[200,68,110,80],[220,79,140,85],[250,105,180,90]])\n",
        "unit_conversion = np.array([75,])\n",
        "print(revenues)\n",
        "print(unit_conversion)"
      ],
      "metadata": {
        "colab": {
          "base_uri": "https://localhost:8080/"
        },
        "id": "pDNo03gx_nF0",
        "outputId": "f0f00c7c-309a-43c9-946e-a4a66eb70427"
      },
      "execution_count": 10,
      "outputs": [
        {
          "output_type": "stream",
          "name": "stdout",
          "text": [
            "[[200  68 110  80]\n",
            " [220  79 140  85]\n",
            " [250 105 180  90]]\n",
            "[75]\n"
          ]
        }
      ]
    },
    {
      "cell_type": "code",
      "source": [
        "result_revenues = unit_conversion*revenues\n",
        "print(result_revenues)"
      ],
      "metadata": {
        "colab": {
          "base_uri": "https://localhost:8080/"
        },
        "id": "UwuKVWWmAZ96",
        "outputId": "9fd4bff9-0839-4eb1-e6e6-3e59f65dda1d"
      },
      "execution_count": 11,
      "outputs": [
        {
          "output_type": "stream",
          "name": "stdout",
          "text": [
            "[[15000  5100  8250  6000]\n",
            " [16500  5925 10500  6375]\n",
            " [18750  7875 13500  6750]]\n"
          ]
        }
      ]
    },
    {
      "cell_type": "code",
      "source": [
        "units_sold = np.array([[50,10,40],[60,13,70],[25,5,52]])\n",
        "price_per_unit_new = np.array([20,30,15])\n",
        "\n",
        "print(units_sold)\n",
        "print(price_per_unit_new)\n",
        "print('')\n",
        "\n",
        "# results_units_sold = np.dot(units_sold, price_per_unit_new)\n",
        "# results_units_sold = np.dot( price_per_unit_new, units_sold)\n",
        "# results_units_sold = price_per_unit_new  * units_sold\n",
        "results_units_sold = units_sold    * price_per_unit_new \n",
        "print(results_units_sold)"
      ],
      "metadata": {
        "colab": {
          "base_uri": "https://localhost:8080/"
        },
        "id": "3-AZUVf3A1HA",
        "outputId": "2bb44b1f-16e6-4fad-8a9d-81c5efaeaec7"
      },
      "execution_count": 23,
      "outputs": [
        {
          "output_type": "stream",
          "name": "stdout",
          "text": [
            "[[50 10 40]\n",
            " [60 13 70]\n",
            " [25  5 52]]\n",
            "[20 30 15]\n",
            "\n",
            "[[1000  300  600]\n",
            " [1200  390 1050]\n",
            " [ 500  150  780]]\n"
          ]
        }
      ]
    }
  ]
}