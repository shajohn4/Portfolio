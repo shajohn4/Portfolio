{
  "nbformat": 4,
  "nbformat_minor": 0,
  "metadata": {
    "colab": {
      "name": "Numpy.ipynb",
      "provenance": [],
      "collapsed_sections": [],
      "authorship_tag": "ABX9TyNoKoD+PMFhYcamA0Ka9+XL",
      "include_colab_link": true
    },
    "kernelspec": {
      "name": "python3",
      "display_name": "Python 3"
    },
    "language_info": {
      "name": "python"
    }
  },
  "cells": [
    {
      "cell_type": "markdown",
      "metadata": {
        "id": "view-in-github",
        "colab_type": "text"
      },
      "source": [
        "<a href=\"https://colab.research.google.com/github/shajohn4/Portfolio/blob/main/Numpy.ipynb\" target=\"_parent\"><img src=\"https://colab.research.google.com/assets/colab-badge.svg\" alt=\"Open In Colab\"/></a>"
      ]
    },
    {
      "cell_type": "code",
      "execution_count": 1,
      "metadata": {
        "id": "THMnNtDWY_6m"
      },
      "outputs": [],
      "source": [
        "import numpy as np"
      ]
    },
    {
      "cell_type": "code",
      "source": [
        "a = np.array([[1,2],[3,4],[5,6]])"
      ],
      "metadata": {
        "id": "NnIiLCcWZEOj"
      },
      "execution_count": 4,
      "outputs": []
    },
    {
      "cell_type": "code",
      "source": [
        "print('shape of array',a.shape)\n",
        "print('dimension of array',a.ndim)\n",
        "print('DataType of array',a.dtype)\n",
        "print('Size of array',a.size)\n",
        "print('itemsize of array',a.itemsize)\n",
        "print('Print array',a)\n"
      ],
      "metadata": {
        "colab": {
          "base_uri": "https://localhost:8080/"
        },
        "id": "eYDaV-2oZTqc",
        "outputId": "6aa4d75c-6075-4afa-e77a-fe1b2597868a"
      },
      "execution_count": 7,
      "outputs": [
        {
          "output_type": "stream",
          "name": "stdout",
          "text": [
            "shape of array (3, 2)\n",
            "dimension of array 2\n",
            "DataType of array int64\n",
            "Size of array 6\n",
            "itemsize of array 8\n",
            "Print array [[1 2]\n",
            " [3 4]\n",
            " [5 6]]\n"
          ]
        }
      ]
    },
    {
      "cell_type": "code",
      "source": [
        "b=np.ravel(a)\n",
        "print('Flatten array',b)"
      ],
      "metadata": {
        "colab": {
          "base_uri": "https://localhost:8080/"
        },
        "id": "vV-j4KTuZuk4",
        "outputId": "c25bac32-dea3-400d-bd3e-4ecb5ecbb547"
      },
      "execution_count": 6,
      "outputs": [
        {
          "output_type": "stream",
          "name": "stdout",
          "text": [
            "Flatten array [1 2 3 4 5 6]\n"
          ]
        }
      ]
    },
    {
      "cell_type": "markdown",
      "source": [
        "Ravel will flatten the array into one dimensional array. It will not make changes to original array instead create a new one dimensional array."
      ],
      "metadata": {
        "id": "RqeG0wEoZ1jB"
      }
    },
    {
      "cell_type": "code",
      "source": [
        "c=np.array([[1,2],[3,4],[5,6]],dtype=float)\n",
        "print(c)\n",
        "print(c.dtype)"
      ],
      "metadata": {
        "colab": {
          "base_uri": "https://localhost:8080/"
        },
        "id": "BlBwipqhb_sS",
        "outputId": "61c59cc4-52c1-4364-f275-bdbf29bc7c95"
      },
      "execution_count": 9,
      "outputs": [
        {
          "output_type": "stream",
          "name": "stdout",
          "text": [
            "[[1. 2.]\n",
            " [3. 4.]\n",
            " [5. 6.]]\n",
            "float64\n"
          ]
        }
      ]
    },
    {
      "cell_type": "code",
      "source": [
        "d = np.zeros((3,4),dtype=int)\n",
        "#initialize an array with zero value\n",
        "print(d)"
      ],
      "metadata": {
        "colab": {
          "base_uri": "https://localhost:8080/"
        },
        "id": "McAEkSwWcUbS",
        "outputId": "7e3e9171-28ea-4719-dd67-7a3179991f28"
      },
      "execution_count": 12,
      "outputs": [
        {
          "output_type": "stream",
          "name": "stdout",
          "text": [
            "[[0 0 0 0]\n",
            " [0 0 0 0]\n",
            " [0 0 0 0]]\n"
          ]
        }
      ]
    },
    {
      "cell_type": "code",
      "source": [
        "d = np.ones((3,4),dtype=int)\n",
        "#initialize an array with one value\n",
        "print(d)"
      ],
      "metadata": {
        "colab": {
          "base_uri": "https://localhost:8080/"
        },
        "id": "qXGOg6edcosy",
        "outputId": "0f8355f4-4bf0-4a55-915c-5bf73d887d7f"
      },
      "execution_count": 13,
      "outputs": [
        {
          "output_type": "stream",
          "name": "stdout",
          "text": [
            "[[1 1 1 1]\n",
            " [1 1 1 1]\n",
            " [1 1 1 1]]\n"
          ]
        }
      ]
    },
    {
      "cell_type": "code",
      "source": [
        "d = np.arange(1,5)\n",
        "#Create an array with 5 elements\n",
        "print(d)"
      ],
      "metadata": {
        "colab": {
          "base_uri": "https://localhost:8080/"
        },
        "id": "OmLl62p9c1S4",
        "outputId": "f755edef-60e8-4ba1-fa43-ae92a7d45713"
      },
      "execution_count": 14,
      "outputs": [
        {
          "output_type": "stream",
          "name": "stdout",
          "text": [
            "[1 2 3 4]\n"
          ]
        }
      ]
    },
    {
      "cell_type": "code",
      "source": [
        "d = np.arange(1,10,2)\n",
        "#Create an array with 5 elements with stride of 2\n",
        "print(d)"
      ],
      "metadata": {
        "colab": {
          "base_uri": "https://localhost:8080/"
        },
        "id": "jtm4K7X1dBYo",
        "outputId": "0b80cbb3-629b-4dc2-df82-09d5a7df52d2"
      },
      "execution_count": 15,
      "outputs": [
        {
          "output_type": "stream",
          "name": "stdout",
          "text": [
            "[1 3 5 7 9]\n"
          ]
        }
      ]
    },
    {
      "cell_type": "code",
      "source": [
        "d = np.linspace(1,10,5,dtype = int)\n",
        "#Create an array with 5 elements which are equally spaced\n",
        "print(d)"
      ],
      "metadata": {
        "colab": {
          "base_uri": "https://localhost:8080/"
        },
        "id": "70ZcdZkUdFzO",
        "outputId": "5477730b-2dd7-421c-8bcb-519f7029d1fd"
      },
      "execution_count": 19,
      "outputs": [
        {
          "output_type": "stream",
          "name": "stdout",
          "text": [
            "[ 1  3  5  7 10]\n"
          ]
        }
      ]
    },
    {
      "cell_type": "code",
      "source": [
        "d = np.array([[1,2],[4,6],[8,20]])\n",
        "print(d)\n",
        "print('Minimum value from the array',d.min())\n",
        "print('Maximum value from the array', d.max())"
      ],
      "metadata": {
        "colab": {
          "base_uri": "https://localhost:8080/"
        },
        "id": "553k7tTieH2S",
        "outputId": "b05fce61-4dd1-46cc-8f60-7088b81f88a2"
      },
      "execution_count": 21,
      "outputs": [
        {
          "output_type": "stream",
          "name": "stdout",
          "text": [
            "[[ 1  2]\n",
            " [ 4  6]\n",
            " [ 8 20]]\n",
            "1\n",
            "20\n"
          ]
        }
      ]
    },
    {
      "cell_type": "code",
      "source": [
        "print('Sum of the array elements', d.sum())\n",
        "print('Sum of the array elements (rowwise addition of elements)', d.sum(axis =0))\n",
        "print('Sum of the array elements (columnwise addition of elements)', d.sum(axis =1))"
      ],
      "metadata": {
        "colab": {
          "base_uri": "https://localhost:8080/"
        },
        "id": "2_xr3ubRiLnF",
        "outputId": "8cba7145-7afc-43de-aebf-e1bd15db2439"
      },
      "execution_count": 24,
      "outputs": [
        {
          "output_type": "stream",
          "name": "stdout",
          "text": [
            "Sum of the array elements 41\n",
            "Sum of the array elements [13 28]\n",
            "Sum of the array elements [ 3 10 28]\n"
          ]
        }
      ]
    },
    {
      "cell_type": "code",
      "source": [
        "a = np.array([[2,3],[4,6]])\n",
        "b = np.array([[20,30],[40,60]])\n",
        "print('array a', a)\n",
        "print('array b', b)\n",
        "print('addition of array a and b', a+b)\n",
        "print('subtraction of array a and b', a-b)\n",
        "print('multiplication of array a and b', a*b)\n",
        "print('division of array a and b', a/b)\n",
        "print('matrix product of array a and b', np.dot(a,b))\n"
      ],
      "metadata": {
        "colab": {
          "base_uri": "https://localhost:8080/"
        },
        "id": "OIJoRG-RkiOz",
        "outputId": "e9b4e20b-2650-4720-dd1b-60d3cbe8d204"
      },
      "execution_count": 35,
      "outputs": [
        {
          "output_type": "stream",
          "name": "stdout",
          "text": [
            "array a [[2 3]\n",
            " [4 6]]\n",
            "array b [[20 30]\n",
            " [40 60]]\n",
            "addition of array a and b [[22 33]\n",
            " [44 66]]\n",
            "subtraction of array a and b [[-18 -27]\n",
            " [-36 -54]]\n",
            "multiplication of array a and b [[ 40  90]\n",
            " [160 360]]\n",
            "division of array a and b [[0.1 0.1]\n",
            " [0.1 0.1]]\n",
            "matrix product of array a and b [[160 240]\n",
            " [320 480]]\n"
          ]
        }
      ]
    },
    {
      "cell_type": "code",
      "source": [
        "# slicing and dicing\n",
        "a = np.array([1,2,3,4,5,6])\n",
        "print(a[0])\n",
        "print(a[0:4])\n",
        "print(a[-1])\n",
        "print(a[:-1])\n",
        "print(a[:])"
      ],
      "metadata": {
        "colab": {
          "base_uri": "https://localhost:8080/"
        },
        "id": "OGltWFoZoVqe",
        "outputId": "c6e7f3e2-815d-4363-c2ba-00d205eea175"
      },
      "execution_count": 37,
      "outputs": [
        {
          "output_type": "stream",
          "name": "stdout",
          "text": [
            "1\n",
            "[1 2 3 4]\n",
            "6\n",
            "[1 2 3 4 5]\n",
            "[1 2 3 4 5 6]\n"
          ]
        }
      ]
    },
    {
      "cell_type": "code",
      "source": [
        "# slicing and dicing in matrix\n",
        "a = np.array([[1,2,3],[4,5,6],[7,8,9]])\n",
        "print(a)\n",
        "print('')\n",
        "print('last row of the matrix', a[-1])\n",
        "print('')\n",
        "print(a[:,:])\n",
        "print('')\n",
        "print('First row third column element', a[0,2])\n",
        "print('')\n",
        "print('Third row second column element', a[2,1])\n",
        "print('')\n",
        "print('All rows second column element', a[:3,1])\n",
        "print('')\n",
        "print('last column two  values', a[:-1,0:-1])\n"
      ],
      "metadata": {
        "colab": {
          "base_uri": "https://localhost:8080/"
        },
        "id": "VZabqenKo8Jq",
        "outputId": "9de40c41-8413-438e-b2da-deeab7c9074c"
      },
      "execution_count": 55,
      "outputs": [
        {
          "output_type": "stream",
          "name": "stdout",
          "text": [
            "[[1 2 3]\n",
            " [4 5 6]\n",
            " [7 8 9]]\n",
            "\n",
            "last row of the matrix [7 8 9]\n",
            "\n",
            "[[1 2 3]\n",
            " [4 5 6]\n",
            " [7 8 9]]\n",
            "\n",
            "First row third column element 3\n",
            "\n",
            "Third row second column element 8\n",
            "\n",
            "All rows second column element [2 5 8]\n",
            "\n",
            "last column two  values [[1 2]\n",
            " [4 5]]\n"
          ]
        }
      ]
    },
    {
      "cell_type": "code",
      "source": [
        "# slicing and dicing in matrix\n",
        "a = np.array([[1,2,3],[4,5,6],[7,8,9]])\n",
        "\n",
        "for row in a:\n",
        "  print (row)\n",
        "\n",
        "print('')\n",
        "print('')\n",
        "for col in a:\n",
        "  print (col)\n",
        "\n",
        "d= np.ravel(a)\n",
        "print(d)  \n",
        "\n",
        "print('')\n",
        "for col in d:\n",
        "  print(d[col-1])\n",
        "\n",
        "print('')\n",
        "for b in a.flat:\n",
        "  print(b)"
      ],
      "metadata": {
        "colab": {
          "base_uri": "https://localhost:8080/"
        },
        "id": "A9-kaU5ZrdcC",
        "outputId": "93dfada2-2257-4de6-a52f-a0bff32abc72"
      },
      "execution_count": 69,
      "outputs": [
        {
          "output_type": "stream",
          "name": "stdout",
          "text": [
            "[1 2 3]\n",
            "[4 5 6]\n",
            "[7 8 9]\n",
            "\n",
            "\n",
            "[1 2 3]\n",
            "[4 5 6]\n",
            "[7 8 9]\n",
            "[1 2 3 4 5 6 7 8 9]\n",
            "\n",
            "1\n",
            "2\n",
            "3\n",
            "4\n",
            "5\n",
            "6\n",
            "7\n",
            "8\n",
            "9\n",
            "\n",
            "1\n",
            "2\n",
            "3\n",
            "4\n",
            "5\n",
            "6\n",
            "7\n",
            "8\n",
            "9\n"
          ]
        }
      ]
    },
    {
      "cell_type": "code",
      "source": [
        "# stacking two arrays\n",
        "a = np.arange(6).reshape(2,3)\n",
        "print(a)\n",
        "print('')\n",
        "b = np.arange(6,12).reshape(2,3)\n",
        "print(b)\n",
        "\n",
        "print('')\n",
        "print('Vertical stacking of arrays', np.vstack((a,b)))\n",
        "\n",
        "print('')\n",
        "print('Horizontal stacking of arrays', np.hstack((a,b)))"
      ],
      "metadata": {
        "colab": {
          "base_uri": "https://localhost:8080/"
        },
        "id": "4-XexWWKstWT",
        "outputId": "175cc558-e553-4a8e-d877-70f1bfb89246"
      },
      "execution_count": 76,
      "outputs": [
        {
          "output_type": "stream",
          "name": "stdout",
          "text": [
            "[[0 1 2]\n",
            " [3 4 5]]\n",
            "\n",
            "[[ 6  7  8]\n",
            " [ 9 10 11]]\n",
            "\n",
            "Vertical stacking of arrays [[ 0  1  2]\n",
            " [ 3  4  5]\n",
            " [ 6  7  8]\n",
            " [ 9 10 11]]\n",
            "\n",
            "Horizontal stacking of arrays [[ 0  1  2  6  7  8]\n",
            " [ 3  4  5  9 10 11]]\n"
          ]
        }
      ]
    },
    {
      "cell_type": "code",
      "source": [
        "# splitting of arrays\n",
        "a = np.arange(12).reshape(3,4)\n",
        "print(a)\n",
        "print('')\n",
        "\n",
        "b = np.hsplit(a,2)\n",
        "print(b)"
      ],
      "metadata": {
        "colab": {
          "base_uri": "https://localhost:8080/"
        },
        "id": "yZZV3KU_thXI",
        "outputId": "c2484767-f169-4e7b-8863-da32406735a9"
      },
      "execution_count": 85,
      "outputs": [
        {
          "output_type": "stream",
          "name": "stdout",
          "text": [
            "[[ 0  1  2  3]\n",
            " [ 4  5  6  7]\n",
            " [ 8  9 10 11]]\n",
            "\n",
            "[array([[0, 1],\n",
            "       [4, 5],\n",
            "       [8, 9]]), array([[ 2,  3],\n",
            "       [ 6,  7],\n",
            "       [10, 11]])]\n"
          ]
        }
      ]
    },
    {
      "cell_type": "code",
      "source": [
        "# vertical splitting of arrays\n",
        "a = np.arange(18).reshape(6,3)\n",
        "print(a)\n",
        "print('')\n",
        "\n",
        "b = np.vsplit(a,2)\n",
        "print(b)"
      ],
      "metadata": {
        "colab": {
          "base_uri": "https://localhost:8080/"
        },
        "id": "SeTvq53vucc6",
        "outputId": "90e1ff25-9dd9-43ad-980c-5bdd65c782d3"
      },
      "execution_count": 90,
      "outputs": [
        {
          "output_type": "stream",
          "name": "stdout",
          "text": [
            "[[ 0  1  2]\n",
            " [ 3  4  5]\n",
            " [ 6  7  8]\n",
            " [ 9 10 11]\n",
            " [12 13 14]\n",
            " [15 16 17]]\n",
            "\n",
            "[array([[0, 1, 2],\n",
            "       [3, 4, 5],\n",
            "       [6, 7, 8]]), array([[ 9, 10, 11],\n",
            "       [12, 13, 14],\n",
            "       [15, 16, 17]])]\n"
          ]
        }
      ]
    },
    {
      "cell_type": "code",
      "source": [
        "a = np.arange(12).reshape(3,4)\n",
        "print(a)\n",
        "\n",
        "b = a > 4\n",
        "print('')\n",
        "print(b)\n",
        "\n",
        "print('')\n",
        "print(a[b])\n",
        "\n",
        "print('')\n",
        "a[b]=-1\n",
        "print(a)"
      ],
      "metadata": {
        "colab": {
          "base_uri": "https://localhost:8080/"
        },
        "id": "TPnYnlvpvTtP",
        "outputId": "962ad30d-66e5-4c77-86a3-cb38184320e8"
      },
      "execution_count": 94,
      "outputs": [
        {
          "output_type": "stream",
          "name": "stdout",
          "text": [
            "[[ 0  1  2  3]\n",
            " [ 4  5  6  7]\n",
            " [ 8  9 10 11]]\n",
            "\n",
            "[[False False False False]\n",
            " [False  True  True  True]\n",
            " [ True  True  True  True]]\n",
            "\n",
            "[ 5  6  7  8  9 10 11]\n",
            "\n",
            "[[ 0  1  2  3]\n",
            " [ 4 -1 -1 -1]\n",
            " [-1 -1 -1 -1]]\n"
          ]
        }
      ]
    }
  ]
}