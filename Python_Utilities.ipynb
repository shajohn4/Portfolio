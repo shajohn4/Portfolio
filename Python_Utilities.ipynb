{
  "nbformat": 4,
  "nbformat_minor": 0,
  "metadata": {
    "colab": {
      "name": "Python_Utilities.ipynb",
      "provenance": [],
      "collapsed_sections": [],
      "authorship_tag": "ABX9TyPIrAFncetverP+MYPfSWN2",
      "include_colab_link": true
    },
    "kernelspec": {
      "name": "python3",
      "display_name": "Python 3"
    },
    "language_info": {
      "name": "python"
    }
  },
  "cells": [
    {
      "cell_type": "markdown",
      "metadata": {
        "id": "view-in-github",
        "colab_type": "text"
      },
      "source": [
        "<a href=\"https://colab.research.google.com/github/shajohn4/Portfolio/blob/main/Python_Utilities.ipynb\" target=\"_parent\"><img src=\"https://colab.research.google.com/assets/colab-badge.svg\" alt=\"Open In Colab\"/></a>"
      ]
    },
    {
      "cell_type": "markdown",
      "source": [
        "This is an example of for loop. For Loop can loop over any iterables (List, Zip, Enumerators etc). Basically the syntax is\n",
        "\n",
        "For .... in iterables:\n",
        "  Do Something\n",
        "\n",
        "  https://www.youtube.com/watch?v=9oAIJvdcL5w\n",
        "  https://www.youtube.com/watch?v=9Os0o3wzS_I\n",
        "  "
      ],
      "metadata": {
        "id": "KGUGdLriSdDN"
      }
    },
    {
      "cell_type": "code",
      "execution_count": 1,
      "metadata": {
        "colab": {
          "base_uri": "https://localhost:8080/"
        },
        "id": "EJXSpAF7SY9x",
        "outputId": "65443c08-6026-43f6-948f-183ec9ba8ece"
      },
      "outputs": [
        {
          "output_type": "stream",
          "name": "stdout",
          "text": [
            "S\n",
            "h\n",
            "a\n",
            "j\n",
            "i\n",
            " \n",
            "J\n",
            "o\n",
            "h\n",
            "n\n"
          ]
        }
      ],
      "source": [
        "my_name = 'Shaji John'\n",
        "for char in my_name:\n",
        "  print(char)"
      ]
    },
    {
      "cell_type": "code",
      "source": [
        "name_list = ['Shaji','John','Ryan','John']\n",
        "for each_name in name_list:\n",
        "    print (each_name)"
      ],
      "metadata": {
        "colab": {
          "base_uri": "https://localhost:8080/"
        },
        "id": "JQrCK-inSs1H",
        "outputId": "2e68d9fb-3ba8-4bdd-a5af-41daa9d4eede"
      },
      "execution_count": 3,
      "outputs": [
        {
          "output_type": "stream",
          "name": "stdout",
          "text": [
            "Shaji\n",
            "John\n",
            "Ryan\n",
            "John\n"
          ]
        }
      ]
    },
    {
      "cell_type": "markdown",
      "source": [
        "This code depicts how we can check whether the path provided is a file or is it folder\n",
        "\n"
      ],
      "metadata": {
        "id": "_90O8LRbVHkJ"
      }
    },
    {
      "cell_type": "code",
      "source": [
        "import os\n",
        "print(os.path.isfile('/content/sample_data'))\n",
        "print(os.path.isfile('/content/sample_data/california_housing_train.csv'))"
      ],
      "metadata": {
        "colab": {
          "base_uri": "https://localhost:8080/"
        },
        "id": "YABEpMc4VIUV",
        "outputId": "0da373ce-c68e-4744-fd6e-7fa2ba38575a"
      },
      "execution_count": 5,
      "outputs": [
        {
          "output_type": "stream",
          "name": "stdout",
          "text": [
            "False\n",
            "True\n"
          ]
        }
      ]
    },
    {
      "cell_type": "code",
      "source": [
        "import pathlib\n",
        "path = pathlib.Path('/content/sample_data')\n",
        "print(path.is_file())\n",
        "path = pathlib.Path('/content/sample_data/california_housing_train.csvx')\n",
        "print(path.is_dir())"
      ],
      "metadata": {
        "colab": {
          "base_uri": "https://localhost:8080/"
        },
        "id": "4d3u0oqYVscw",
        "outputId": "82b97e5d-611f-48f8-b0ec-a28549414a7a"
      },
      "execution_count": 6,
      "outputs": [
        {
          "output_type": "stream",
          "name": "stdout",
          "text": [
            "False\n",
            "False\n"
          ]
        }
      ]
    }
  ]
}