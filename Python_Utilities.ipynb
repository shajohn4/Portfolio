{
  "nbformat": 4,
  "nbformat_minor": 0,
  "metadata": {
    "colab": {
      "name": "Python_Utilities.ipynb",
      "provenance": [],
      "collapsed_sections": [],
      "authorship_tag": "ABX9TyPcdIcinHpHYYNXs25W11+S",
      "include_colab_link": true
    },
    "kernelspec": {
      "name": "python3",
      "display_name": "Python 3"
    },
    "language_info": {
      "name": "python"
    }
  },
  "cells": [
    {
      "cell_type": "markdown",
      "metadata": {
        "id": "view-in-github",
        "colab_type": "text"
      },
      "source": [
        "<a href=\"https://colab.research.google.com/github/shajohn4/Portfolio/blob/main/Python_Utilities.ipynb\" target=\"_parent\"><img src=\"https://colab.research.google.com/assets/colab-badge.svg\" alt=\"Open In Colab\"/></a>"
      ]
    },
    {
      "cell_type": "markdown",
      "source": [
        "This is an example of for loop. For Loop can loop over any iterables (List, Zip, Enumerators etc). Basically the syntax is\n",
        "\n",
        "For .... in iterables:\n",
        "  Do Something\n",
        "\n",
        "  https://www.youtube.com/watch?v=9oAIJvdcL5w\n",
        "  https://www.youtube.com/watch?v=9Os0o3wzS_I\n",
        "  "
      ],
      "metadata": {
        "id": "KGUGdLriSdDN"
      }
    },
    {
      "cell_type": "code",
      "execution_count": null,
      "metadata": {
        "colab": {
          "base_uri": "https://localhost:8080/"
        },
        "id": "EJXSpAF7SY9x",
        "outputId": "65443c08-6026-43f6-948f-183ec9ba8ece"
      },
      "outputs": [
        {
          "output_type": "stream",
          "name": "stdout",
          "text": [
            "S\n",
            "h\n",
            "a\n",
            "j\n",
            "i\n",
            " \n",
            "J\n",
            "o\n",
            "h\n",
            "n\n"
          ]
        }
      ],
      "source": [
        "my_name = 'Shaji John'\n",
        "for char in my_name:\n",
        "  print(char)"
      ]
    },
    {
      "cell_type": "code",
      "source": [
        "name_list = ['Shaji','John','Ryan','John']\n",
        "for each_name in name_list:\n",
        "    print (each_name)"
      ],
      "metadata": {
        "colab": {
          "base_uri": "https://localhost:8080/"
        },
        "id": "JQrCK-inSs1H",
        "outputId": "2e68d9fb-3ba8-4bdd-a5af-41daa9d4eede"
      },
      "execution_count": null,
      "outputs": [
        {
          "output_type": "stream",
          "name": "stdout",
          "text": [
            "Shaji\n",
            "John\n",
            "Ryan\n",
            "John\n"
          ]
        }
      ]
    },
    {
      "cell_type": "markdown",
      "source": [
        "This code depicts how we can check whether the path provided is a file or is it folder\n",
        "\n"
      ],
      "metadata": {
        "id": "_90O8LRbVHkJ"
      }
    },
    {
      "cell_type": "code",
      "source": [
        "import os\n",
        "print(os.path.isfile('/content/sample_data'))\n",
        "print(os.path.isfile('/content/sample_data/california_housing_train.csv'))"
      ],
      "metadata": {
        "colab": {
          "base_uri": "https://localhost:8080/"
        },
        "id": "YABEpMc4VIUV",
        "outputId": "0da373ce-c68e-4744-fd6e-7fa2ba38575a"
      },
      "execution_count": null,
      "outputs": [
        {
          "output_type": "stream",
          "name": "stdout",
          "text": [
            "False\n",
            "True\n"
          ]
        }
      ]
    },
    {
      "cell_type": "code",
      "source": [
        "import pathlib\n",
        "path = pathlib.Path('/content/sample_data')\n",
        "print(path.is_file())\n",
        "path = pathlib.Path('/content/sample_data/california_housing_train.csvx')\n",
        "print(path.is_dir())"
      ],
      "metadata": {
        "colab": {
          "base_uri": "https://localhost:8080/"
        },
        "id": "4d3u0oqYVscw",
        "outputId": "82b97e5d-611f-48f8-b0ec-a28549414a7a"
      },
      "execution_count": null,
      "outputs": [
        {
          "output_type": "stream",
          "name": "stdout",
          "text": [
            "False\n",
            "False\n"
          ]
        }
      ]
    },
    {
      "cell_type": "markdown",
      "source": [
        "This shows how divmod function works"
      ],
      "metadata": {
        "id": "TMAQIKpvWcSC"
      }
    },
    {
      "cell_type": "code",
      "source": [
        "import math\n",
        "quotient, remainder = divmod(5,2)\n",
        "print(quotient)\n",
        "print(remainder)"
      ],
      "metadata": {
        "colab": {
          "base_uri": "https://localhost:8080/"
        },
        "id": "Xo7iSYcFWchx",
        "outputId": "cfb5347b-e608-409b-95b2-9e348729d9fe"
      },
      "execution_count": null,
      "outputs": [
        {
          "output_type": "stream",
          "name": "stdout",
          "text": [
            "2\n",
            "1\n"
          ]
        }
      ]
    },
    {
      "cell_type": "markdown",
      "source": [
        "\n",
        "\n",
        "How to user namedtuple\n",
        "\n",
        "\n"
      ],
      "metadata": {
        "id": "GQIvqEO0XDhl"
      }
    },
    {
      "cell_type": "code",
      "source": [
        "from collections import  namedtuple\n",
        "Person = namedtuple(\"Person\",[\"name\",\"age\"])\n",
        "me = Person(\"Shaji\",20)\n",
        "print(me.name)\n",
        "print(me.age)"
      ],
      "metadata": {
        "colab": {
          "base_uri": "https://localhost:8080/"
        },
        "id": "7zL4lvOGXD4a",
        "outputId": "b6caafd3-bdac-4b49-8d0b-671255c3ff1f"
      },
      "execution_count": null,
      "outputs": [
        {
          "output_type": "stream",
          "name": "stdout",
          "text": [
            "Shaji\n",
            "20\n"
          ]
        }
      ]
    },
    {
      "cell_type": "code",
      "source": [
        "x = [\"1\",\"2\",\"3\"]\n",
        "result = sum(int(y) for y in x)\n",
        "print (result)\n",
        "\n"
      ],
      "metadata": {
        "colab": {
          "base_uri": "https://localhost:8080/"
        },
        "id": "f-PFPp9FZWk9",
        "outputId": "0dd77086-909c-4e98-c306-3e3371fad75c"
      },
      "execution_count": null,
      "outputs": [
        {
          "output_type": "stream",
          "name": "stdout",
          "text": [
            "6\n"
          ]
        }
      ]
    },
    {
      "cell_type": "markdown",
      "source": [
        "export PATH=\"${HOME}/anaconda3/bin:$PATH\" is the command to add anaconda PATH in your path variable\n",
        "conda update conda is the command to update conda package and environment to current version\n",
        "conda update --all\n",
        "conda install -c anaconda pyqt=4.11.4 # is the command to update a library of a specific package\n",
        "conda list is the command to find list of packages installed\n",
        "\n",
        "Following is to check if a specifi library is installed.\n",
        "conda search pyqt\n",
        "conda search scikit-learn \n",
        "\n",
        "\n",
        "list of all environments\n",
        ":: conda info –envs\n"
      ],
      "metadata": {
        "id": "CRs-qs65j9Rl"
      }
    },
    {
      "cell_type": "code",
      "source": [
        "import numpy as np\n",
        "X = np.array([[1, 2], [3, 4]])\n",
        "#v = np.array([1, 2]).reshape((2, 1))\n",
        "v = np.array([1, 2])\n",
        "print(X)\n",
        "print('')\n",
        "print(v)\n",
        "print('Matrix Multiplication')\n",
        "print(np.dot(X, v)) # no broadcasting\n",
        "print('BroadCasting')\n",
        "print(X * v) # broadcasting\n",
        "print('Multiplication')\n",
        "print(np.dot(v, X))\n",
        "print('X.Mean is ',X.mean(axis=0))\n",
        "print(X - X.mean(axis=0))"
      ],
      "metadata": {
        "colab": {
          "base_uri": "https://localhost:8080/"
        },
        "id": "vaScSZe0j2b1",
        "outputId": "1d55aa15-b484-4e28-fb76-4d6328a785dc"
      },
      "execution_count": 13,
      "outputs": [
        {
          "output_type": "stream",
          "name": "stdout",
          "text": [
            "[[1 2]\n",
            " [3 4]]\n",
            "\n",
            "[1 2]\n",
            "Matrix Multiplication\n",
            "[ 5 11]\n",
            "BroadCasting\n",
            "[[1 4]\n",
            " [3 8]]\n",
            "Multiplication\n",
            "[ 7 10]\n",
            "X.Mean is  [2. 3.]\n",
            "[[-1. -1.]\n",
            " [ 1.  1.]]\n"
          ]
        }
      ]
    },
    {
      "cell_type": "code",
      "source": [
        "weekdays =['Monday','Tuesday','Wednesday','Thursday','Friday','Saturday']\n",
        "print (f\"Weekdays are {weekdays} and count of elements in weekdays are {len(weekdays)}\")\n",
        "print(f\"Printing weekdays backward {weekdays[::-1]}\")\n",
        "print(f\"Another way to do reverse string is {list(reversed(weekdays))}\")"
      ],
      "metadata": {
        "colab": {
          "base_uri": "https://localhost:8080/"
        },
        "id": "CjsIHO4csJL8",
        "outputId": "814e2565-a014-4efb-e281-83258b7e7a9a"
      },
      "execution_count": 20,
      "outputs": [
        {
          "output_type": "stream",
          "name": "stdout",
          "text": [
            "Weekdays are ['Monday', 'Tuesday', 'Wednesday', 'Thursday', 'Friday', 'Saturday'] and count of elements in weekdays are 6\n",
            "Printing weekdays backward ['Saturday', 'Friday', 'Thursday', 'Wednesday', 'Tuesday', 'Monday']\n",
            "Another way to do reverse string is ['Saturday', 'Friday', 'Thursday', 'Wednesday', 'Tuesday', 'Monday']\n"
          ]
        }
      ]
    },
    {
      "cell_type": "code",
      "source": [
        "# How to open a PDF File with Python works on laptop\n",
        "import os\n",
        "os.open(r'/content/Chrisha_Book_Order.pdf')"
      ],
      "metadata": {
        "colab": {
          "base_uri": "https://localhost:8080/",
          "height": 200
        },
        "id": "ebtFg5rHuW7o",
        "outputId": "cc292831-bd94-4414-ae21-bb4f1e3c9cf1"
      },
      "execution_count": 22,
      "outputs": [
        {
          "output_type": "error",
          "ename": "TypeError",
          "evalue": "ignored",
          "traceback": [
            "\u001b[0;31m---------------------------------------------------------------------------\u001b[0m",
            "\u001b[0;31mTypeError\u001b[0m                                 Traceback (most recent call last)",
            "\u001b[0;32m<ipython-input-22-af9e934b7a77>\u001b[0m in \u001b[0;36m<module>\u001b[0;34m()\u001b[0m\n\u001b[1;32m      1\u001b[0m \u001b[0;31m# How to open a PDF File with Python\u001b[0m\u001b[0;34m\u001b[0m\u001b[0;34m\u001b[0m\u001b[0;34m\u001b[0m\u001b[0m\n\u001b[1;32m      2\u001b[0m \u001b[0;32mimport\u001b[0m \u001b[0mos\u001b[0m\u001b[0;34m\u001b[0m\u001b[0;34m\u001b[0m\u001b[0m\n\u001b[0;32m----> 3\u001b[0;31m \u001b[0mos\u001b[0m\u001b[0;34m.\u001b[0m\u001b[0mopen\u001b[0m\u001b[0;34m(\u001b[0m\u001b[0;34mr'/content/Chrisha_Book_Order.pdf'\u001b[0m\u001b[0;34m)\u001b[0m\u001b[0;34m\u001b[0m\u001b[0;34m\u001b[0m\u001b[0m\n\u001b[0m",
            "\u001b[0;31mTypeError\u001b[0m: open() missing required argument 'flags' (pos 2)"
          ]
        }
      ]
    },
    {
      "cell_type": "markdown",
      "source": [
        "How for loops can be replaced by list comphrehension"
      ],
      "metadata": {
        "id": "tiYUReMcyWVn"
      }
    },
    {
      "cell_type": "code",
      "source": [
        "Weekdays = [['Monday','Tuesday','Wednesday','Thursday','Friday', 'Saturday','Sunday']]\n",
        "\n",
        "lengths =[]\n",
        "\n",
        "for name in weekdays:\n",
        "  lengths.append(len(name))\n",
        "print(lengths)  \n",
        "\n",
        "lengths = [len(name) for name in weekdays]\n",
        "print(lengths)  \n",
        "\n",
        "month_quarters = [['Jan','Feb','Mar'], ['Apr','May','Jun'], ['Jul','Aug','Sep'], ['Oct','Nov','Dec']]\n",
        "length_months = []\n",
        "\n",
        "for sublist in month_quarters:\n",
        "   for name in sublist:\n",
        "       length_months.append(len(name))\n",
        "\n",
        "print(length_months)\n",
        "\n",
        "length_months=[ len(name) for sublist in month_quarters for name in sublist]\n",
        "print(f'list comphrehension method outcome is {length_months}')"
      ],
      "metadata": {
        "colab": {
          "base_uri": "https://localhost:8080/"
        },
        "id": "rXljR8P5vsXk",
        "outputId": "efea8e6e-2a32-421c-9df9-9aa0336e7274"
      },
      "execution_count": 27,
      "outputs": [
        {
          "output_type": "stream",
          "name": "stdout",
          "text": [
            "[6, 7, 9, 8, 6, 8]\n",
            "[6, 7, 9, 8, 6, 8]\n",
            "[3, 3, 3, 3, 3, 3, 3, 3, 3, 3, 3, 3]\n",
            "list comphrehension method outcome is [3, 3, 3, 3, 3, 3, 3, 3, 3, 3, 3, 3]\n"
          ]
        }
      ]
    }
  ]
}