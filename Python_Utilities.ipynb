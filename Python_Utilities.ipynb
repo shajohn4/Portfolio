{
  "nbformat": 4,
  "nbformat_minor": 0,
  "metadata": {
    "colab": {
      "name": "Python_Utilities.ipynb",
      "provenance": [],
      "collapsed_sections": [],
      "authorship_tag": "ABX9TyOgaZosMgWgXo7uGdo18t9b",
      "include_colab_link": true
    },
    "kernelspec": {
      "name": "python3",
      "display_name": "Python 3"
    },
    "language_info": {
      "name": "python"
    }
  },
  "cells": [
    {
      "cell_type": "markdown",
      "metadata": {
        "id": "view-in-github",
        "colab_type": "text"
      },
      "source": [
        "<a href=\"https://colab.research.google.com/github/shajohn4/Portfolio/blob/main/Python_Utilities.ipynb\" target=\"_parent\"><img src=\"https://colab.research.google.com/assets/colab-badge.svg\" alt=\"Open In Colab\"/></a>"
      ]
    },
    {
      "cell_type": "markdown",
      "source": [
        "This is an example of for loop. For Loop can loop over any iterables (List, Zip, Enumerators etc). Basically the syntax is\n",
        "\n",
        "For .... in iterables:\n",
        "  Do Something\n",
        "\n",
        "  https://www.youtube.com/watch?v=9oAIJvdcL5w\n",
        "  https://www.youtube.com/watch?v=9Os0o3wzS_I\n",
        "  "
      ],
      "metadata": {
        "id": "KGUGdLriSdDN"
      }
    },
    {
      "cell_type": "code",
      "execution_count": 1,
      "metadata": {
        "colab": {
          "base_uri": "https://localhost:8080/"
        },
        "id": "EJXSpAF7SY9x",
        "outputId": "65443c08-6026-43f6-948f-183ec9ba8ece"
      },
      "outputs": [
        {
          "output_type": "stream",
          "name": "stdout",
          "text": [
            "S\n",
            "h\n",
            "a\n",
            "j\n",
            "i\n",
            " \n",
            "J\n",
            "o\n",
            "h\n",
            "n\n"
          ]
        }
      ],
      "source": [
        "my_name = 'Shaji John'\n",
        "for char in my_name:\n",
        "  print(char)"
      ]
    },
    {
      "cell_type": "code",
      "source": [
        "name_list = ['Shaji','John','Ryan','John']\n",
        "for each_name in name_list:\n",
        "    print (each_name)"
      ],
      "metadata": {
        "colab": {
          "base_uri": "https://localhost:8080/"
        },
        "id": "JQrCK-inSs1H",
        "outputId": "2e68d9fb-3ba8-4bdd-a5af-41daa9d4eede"
      },
      "execution_count": 3,
      "outputs": [
        {
          "output_type": "stream",
          "name": "stdout",
          "text": [
            "Shaji\n",
            "John\n",
            "Ryan\n",
            "John\n"
          ]
        }
      ]
    },
    {
      "cell_type": "markdown",
      "source": [
        "This code depicts how we can check whether the path provided is a file or is it folder\n",
        "\n"
      ],
      "metadata": {
        "id": "_90O8LRbVHkJ"
      }
    },
    {
      "cell_type": "code",
      "source": [
        "import os\n",
        "print(os.path.isfile('/content/sample_data'))\n",
        "print(os.path.isfile('/content/sample_data/california_housing_train.csv'))"
      ],
      "metadata": {
        "colab": {
          "base_uri": "https://localhost:8080/"
        },
        "id": "YABEpMc4VIUV",
        "outputId": "0da373ce-c68e-4744-fd6e-7fa2ba38575a"
      },
      "execution_count": 5,
      "outputs": [
        {
          "output_type": "stream",
          "name": "stdout",
          "text": [
            "False\n",
            "True\n"
          ]
        }
      ]
    },
    {
      "cell_type": "code",
      "source": [
        "import pathlib\n",
        "path = pathlib.Path('/content/sample_data')\n",
        "print(path.is_file())\n",
        "path = pathlib.Path('/content/sample_data/california_housing_train.csvx')\n",
        "print(path.is_dir())"
      ],
      "metadata": {
        "colab": {
          "base_uri": "https://localhost:8080/"
        },
        "id": "4d3u0oqYVscw",
        "outputId": "82b97e5d-611f-48f8-b0ec-a28549414a7a"
      },
      "execution_count": 6,
      "outputs": [
        {
          "output_type": "stream",
          "name": "stdout",
          "text": [
            "False\n",
            "False\n"
          ]
        }
      ]
    },
    {
      "cell_type": "markdown",
      "source": [
        "This shows how divmod function works"
      ],
      "metadata": {
        "id": "TMAQIKpvWcSC"
      }
    },
    {
      "cell_type": "code",
      "source": [
        "import math\n",
        "quotient, remainder = divmod(5,2)\n",
        "print(quotient)\n",
        "print(remainder)"
      ],
      "metadata": {
        "colab": {
          "base_uri": "https://localhost:8080/"
        },
        "id": "Xo7iSYcFWchx",
        "outputId": "cfb5347b-e608-409b-95b2-9e348729d9fe"
      },
      "execution_count": 7,
      "outputs": [
        {
          "output_type": "stream",
          "name": "stdout",
          "text": [
            "2\n",
            "1\n"
          ]
        }
      ]
    },
    {
      "cell_type": "markdown",
      "source": [
        "\n",
        "\n",
        "How to user namedtuple\n",
        "\n",
        "\n"
      ],
      "metadata": {
        "id": "GQIvqEO0XDhl"
      }
    },
    {
      "cell_type": "code",
      "source": [
        "from collections import  namedtuple\n",
        "Person = namedtuple(\"Person\",[\"name\",\"age\"])\n",
        "me = Person(\"Shaji\",20)\n",
        "print(me.name)\n",
        "print(me.age)"
      ],
      "metadata": {
        "colab": {
          "base_uri": "https://localhost:8080/"
        },
        "id": "7zL4lvOGXD4a",
        "outputId": "b6caafd3-bdac-4b49-8d0b-671255c3ff1f"
      },
      "execution_count": 8,
      "outputs": [
        {
          "output_type": "stream",
          "name": "stdout",
          "text": [
            "Shaji\n",
            "20\n"
          ]
        }
      ]
    },
    {
      "cell_type": "code",
      "source": [
        "x = [\"1\",\"2\",\"3\"]\n",
        "result = sum(int(y) for y in x)\n",
        "print (result)\n",
        "\n"
      ],
      "metadata": {
        "colab": {
          "base_uri": "https://localhost:8080/"
        },
        "id": "f-PFPp9FZWk9",
        "outputId": "0dd77086-909c-4e98-c306-3e3371fad75c"
      },
      "execution_count": 12,
      "outputs": [
        {
          "output_type": "stream",
          "name": "stdout",
          "text": [
            "6\n"
          ]
        }
      ]
    }
  ]
}